{
 "cells": [
  {
   "cell_type": "code",
   "execution_count": 54,
   "id": "initial_id",
   "metadata": {
    "collapsed": true,
    "ExecuteTime": {
     "end_time": "2024-03-28T14:43:30.071557Z",
     "start_time": "2024-03-28T14:43:30.069029Z"
    }
   },
   "outputs": [],
   "source": [
    "import xml.etree.ElementTree as ET\n",
    "import pandas as pd"
   ]
  },
  {
   "cell_type": "code",
   "outputs": [],
   "source": [
    "# Parse the XML file\n",
    "tree = ET.parse('xml/20230712/PV-9-2023-07-12-VOT_EN.xml')\n",
    "\n",
    "# Get the root element\n",
    "root = tree.getroot()\n",
    "\n",
    "nature_restoration = root.find('.//Vote.Result[@Number=\"6.\"]')"
   ],
   "metadata": {
    "collapsed": false,
    "ExecuteTime": {
     "end_time": "2024-03-28T14:43:30.123526Z",
     "start_time": "2024-03-28T14:43:30.109664Z"
    }
   },
   "id": "fee8376743730658",
   "execution_count": 55
  },
  {
   "cell_type": "code",
   "outputs": [
    {
     "name": "stdout",
     "output_type": "stream",
     "text": [
      "Nature restoration ***I\n"
     ]
    }
   ],
   "source": [
    "# print(nature_restoration)\n",
    "\n",
    "# for child in nature_restoration:\n",
    "#     print(nature_restoration.get(\"Vote.Result.Text.Title\"))\n",
    "#     print(child.tag, child.attrib)\n",
    "\n",
    "text_element = nature_restoration.find('Vote.Result.Text.Title')\n",
    "if text_element is not None:\n",
    "    print(text_element.text)\n",
    "\n",
    "results_element = nature_restoration.find(\"Vote.Result.Table.Results\")"
   ],
   "metadata": {
    "collapsed": false,
    "ExecuteTime": {
     "end_time": "2024-03-28T14:43:30.141425Z",
     "start_time": "2024-03-28T14:43:30.137578Z"
    }
   },
   "id": "d98e90b727dd1165",
   "execution_count": 56
  },
  {
   "cell_type": "code",
   "outputs": [
    {
     "data": {
      "text/plain": "0                                       Subject Am No     Author RCV etc.  \\\n0    Proposal to reject the Commission proposal   NaN        NaN      NaN   \n1                                     Rejection   NaN  committee      RCV   \n2                         Draft legislative act   NaN        NaN      NaN   \n3                               Text as a whole  18CP      Renew       EV   \n4               Article 1, paragraph 1, point a   113       MEPs       EV   \n..                                          ...   ...        ...      ...   \n158                                  Recital 57  112D       MEPs       EV   \n159                                         NaN  18CP      Renew      NaN   \n160                            After recital 62    56   The Left      NaN   \n161                            After recital 71    57   The Left      NaN   \n162                         Commission proposal   RCV          +            \n\n0        Vote                                   RCV/EV – remarks  \n0         NaN                                                NaN  \n1    rejected  312, 324, 12\\n                                ...  \n2         NaN                                                NaN  \n3     adopted  371, 223, 53\\n                                ...  \n4     adopted  347, 298, 7\\n                                 ...  \n..        ...                                                ...  \n158   adopted  333, 314, 3\\n                                 ...  \n159    lapsed                                                NaN  \n160  rejected                                                NaN  \n161  rejected                                                NaN  \n162       NaN                                                NaN  \n\n[163 rows x 6 columns]",
      "text/html": "<div>\n<style scoped>\n    .dataframe tbody tr th:only-of-type {\n        vertical-align: middle;\n    }\n\n    .dataframe tbody tr th {\n        vertical-align: top;\n    }\n\n    .dataframe thead th {\n        text-align: right;\n    }\n</style>\n<table border=\"1\" class=\"dataframe\">\n  <thead>\n    <tr style=\"text-align: right;\">\n      <th></th>\n      <th>Subject</th>\n      <th>Am No</th>\n      <th>Author</th>\n      <th>RCV etc.</th>\n      <th>Vote</th>\n      <th>RCV/EV – remarks</th>\n    </tr>\n  </thead>\n  <tbody>\n    <tr>\n      <th>0</th>\n      <td>Proposal to reject the Commission proposal</td>\n      <td>NaN</td>\n      <td>NaN</td>\n      <td>NaN</td>\n      <td>NaN</td>\n      <td>NaN</td>\n    </tr>\n    <tr>\n      <th>1</th>\n      <td>Rejection</td>\n      <td>NaN</td>\n      <td>committee</td>\n      <td>RCV</td>\n      <td>rejected</td>\n      <td>312, 324, 12\\n                                ...</td>\n    </tr>\n    <tr>\n      <th>2</th>\n      <td>Draft legislative act</td>\n      <td>NaN</td>\n      <td>NaN</td>\n      <td>NaN</td>\n      <td>NaN</td>\n      <td>NaN</td>\n    </tr>\n    <tr>\n      <th>3</th>\n      <td>Text as a whole</td>\n      <td>18CP</td>\n      <td>Renew</td>\n      <td>EV</td>\n      <td>adopted</td>\n      <td>371, 223, 53\\n                                ...</td>\n    </tr>\n    <tr>\n      <th>4</th>\n      <td>Article 1, paragraph 1, point a</td>\n      <td>113</td>\n      <td>MEPs</td>\n      <td>EV</td>\n      <td>adopted</td>\n      <td>347, 298, 7\\n                                 ...</td>\n    </tr>\n    <tr>\n      <th>...</th>\n      <td>...</td>\n      <td>...</td>\n      <td>...</td>\n      <td>...</td>\n      <td>...</td>\n      <td>...</td>\n    </tr>\n    <tr>\n      <th>158</th>\n      <td>Recital 57</td>\n      <td>112D</td>\n      <td>MEPs</td>\n      <td>EV</td>\n      <td>adopted</td>\n      <td>333, 314, 3\\n                                 ...</td>\n    </tr>\n    <tr>\n      <th>159</th>\n      <td>NaN</td>\n      <td>18CP</td>\n      <td>Renew</td>\n      <td>NaN</td>\n      <td>lapsed</td>\n      <td>NaN</td>\n    </tr>\n    <tr>\n      <th>160</th>\n      <td>After recital 62</td>\n      <td>56</td>\n      <td>The Left</td>\n      <td>NaN</td>\n      <td>rejected</td>\n      <td>NaN</td>\n    </tr>\n    <tr>\n      <th>161</th>\n      <td>After recital 71</td>\n      <td>57</td>\n      <td>The Left</td>\n      <td>NaN</td>\n      <td>rejected</td>\n      <td>NaN</td>\n    </tr>\n    <tr>\n      <th>162</th>\n      <td>Commission proposal</td>\n      <td>RCV</td>\n      <td>+</td>\n      <td></td>\n      <td>NaN</td>\n      <td>NaN</td>\n    </tr>\n  </tbody>\n</table>\n<p>163 rows × 6 columns</p>\n</div>"
     },
     "execution_count": 57,
     "metadata": {},
     "output_type": "execute_result"
    }
   ],
   "source": [
    "# Initialize lists to store data\n",
    "data = []\n",
    "\n",
    "# Find all <TR> elements\n",
    "for tr in results_element.findall('.//TR'):\n",
    "    # Initialize a dictionary to store row data\n",
    "    row_data = {}\n",
    "\n",
    "    # Iterate over <TD> elements within the <TR> element\n",
    "    for td in tr.findall('TD'):\n",
    "        p_elem = td.find('P')\n",
    "\n",
    "        if hasattr(p_elem, \"text\"):\n",
    "            text = p_elem.text.strip()\n",
    "\n",
    "            # Get the column name from the 'COLNAME' attribute of <TD>\n",
    "            colname = td.get('COLNAME')\n",
    "            \n",
    "            match colname:\n",
    "                case \"C1\":\n",
    "                    text = text.replace(\"§\", \"paragraph\")\n",
    "                case \"C5\":\n",
    "                    match text:\n",
    "                        case \"+\":\n",
    "                            text = \"adopted\"\n",
    "                        case \"—\":\n",
    "                            text = \"rejected\"\n",
    "                        case \"↓\":\n",
    "                            text = \"lapsed\"\n",
    "                case 'C6':\n",
    "                    vote_for = p_elem.find('Vote.Result.Table.TotalVote.For')\n",
    "                    vote_against = p_elem.find('Vote.Result.Table.TotalVote.Against')\n",
    "                    vote_abstension = p_elem.find('Vote.Result.Table.TotalVote.Abstention')\n",
    "    \n",
    "                    if vote_for is not None and vote_against is not None and vote_abstension is not None:\n",
    "                        if hasattr(vote_for, \"text\") and hasattr(vote_against, \"text\") and hasattr(vote_abstension, \"text\"):\n",
    "                            text = vote_for.text + \", \" + vote_against.text + \", \" + vote_abstension.text\n",
    "\n",
    "            # Add data to the row dictionary\n",
    "            row_data[colname] = text\n",
    "\n",
    "    # Append the row data to the list of data\n",
    "    data.append(row_data)\n",
    "\n",
    "#Create a DataFrame from the list of data\n",
    "df = pd.DataFrame(data)\n",
    "\n",
    "# Set the first column of the dataframe as the header\n",
    "df.columns = df.iloc[0]\n",
    "df = df[1:]\n",
    "df = df.reset_index(drop=True)\n",
    "\n",
    "# Display the DataFrame\n",
    "df"
   ],
   "metadata": {
    "collapsed": false,
    "ExecuteTime": {
     "end_time": "2024-03-28T14:43:30.186108Z",
     "start_time": "2024-03-28T14:43:30.175123Z"
    }
   },
   "id": "72f2639c5f04a198",
   "execution_count": 57
  },
  {
   "cell_type": "code",
   "outputs": [
    {
     "data": {
      "text/plain": "0                                       Subject Am No     Author RCV etc.  \\\n0    Proposal to reject the Commission proposal   NaN        NaN      NaN   \n1                                     Rejection   NaN  committee      RCV   \n2                         Draft legislative act   NaN        NaN      NaN   \n3                               Text as a whole  18CP      Renew       EV   \n4               Article 1, paragraph 1, point a   113       MEPs       EV   \n..                                          ...   ...        ...      ...   \n158                                  Recital 57  112D       MEPs       EV   \n159                                  Recital 57  18CP      Renew      NaN   \n160                            After recital 62    56   The Left      NaN   \n161                            After recital 71    57   The Left      NaN   \n162                         Commission proposal   RCV          +            \n\n0        Vote                                   RCV/EV – remarks  \n0         NaN                                                NaN  \n1    rejected  312, 324, 12\\n                                ...  \n2         NaN                                                NaN  \n3     adopted  371, 223, 53\\n                                ...  \n4     adopted  347, 298, 7\\n                                 ...  \n..        ...                                                ...  \n158   adopted  333, 314, 3\\n                                 ...  \n159    lapsed                                                NaN  \n160  rejected                                                NaN  \n161  rejected                                                NaN  \n162       NaN                                                NaN  \n\n[163 rows x 6 columns]",
      "text/html": "<div>\n<style scoped>\n    .dataframe tbody tr th:only-of-type {\n        vertical-align: middle;\n    }\n\n    .dataframe tbody tr th {\n        vertical-align: top;\n    }\n\n    .dataframe thead th {\n        text-align: right;\n    }\n</style>\n<table border=\"1\" class=\"dataframe\">\n  <thead>\n    <tr style=\"text-align: right;\">\n      <th></th>\n      <th>Subject</th>\n      <th>Am No</th>\n      <th>Author</th>\n      <th>RCV etc.</th>\n      <th>Vote</th>\n      <th>RCV/EV – remarks</th>\n    </tr>\n  </thead>\n  <tbody>\n    <tr>\n      <th>0</th>\n      <td>Proposal to reject the Commission proposal</td>\n      <td>NaN</td>\n      <td>NaN</td>\n      <td>NaN</td>\n      <td>NaN</td>\n      <td>NaN</td>\n    </tr>\n    <tr>\n      <th>1</th>\n      <td>Rejection</td>\n      <td>NaN</td>\n      <td>committee</td>\n      <td>RCV</td>\n      <td>rejected</td>\n      <td>312, 324, 12\\n                                ...</td>\n    </tr>\n    <tr>\n      <th>2</th>\n      <td>Draft legislative act</td>\n      <td>NaN</td>\n      <td>NaN</td>\n      <td>NaN</td>\n      <td>NaN</td>\n      <td>NaN</td>\n    </tr>\n    <tr>\n      <th>3</th>\n      <td>Text as a whole</td>\n      <td>18CP</td>\n      <td>Renew</td>\n      <td>EV</td>\n      <td>adopted</td>\n      <td>371, 223, 53\\n                                ...</td>\n    </tr>\n    <tr>\n      <th>4</th>\n      <td>Article 1, paragraph 1, point a</td>\n      <td>113</td>\n      <td>MEPs</td>\n      <td>EV</td>\n      <td>adopted</td>\n      <td>347, 298, 7\\n                                 ...</td>\n    </tr>\n    <tr>\n      <th>...</th>\n      <td>...</td>\n      <td>...</td>\n      <td>...</td>\n      <td>...</td>\n      <td>...</td>\n      <td>...</td>\n    </tr>\n    <tr>\n      <th>158</th>\n      <td>Recital 57</td>\n      <td>112D</td>\n      <td>MEPs</td>\n      <td>EV</td>\n      <td>adopted</td>\n      <td>333, 314, 3\\n                                 ...</td>\n    </tr>\n    <tr>\n      <th>159</th>\n      <td>Recital 57</td>\n      <td>18CP</td>\n      <td>Renew</td>\n      <td>NaN</td>\n      <td>lapsed</td>\n      <td>NaN</td>\n    </tr>\n    <tr>\n      <th>160</th>\n      <td>After recital 62</td>\n      <td>56</td>\n      <td>The Left</td>\n      <td>NaN</td>\n      <td>rejected</td>\n      <td>NaN</td>\n    </tr>\n    <tr>\n      <th>161</th>\n      <td>After recital 71</td>\n      <td>57</td>\n      <td>The Left</td>\n      <td>NaN</td>\n      <td>rejected</td>\n      <td>NaN</td>\n    </tr>\n    <tr>\n      <th>162</th>\n      <td>Commission proposal</td>\n      <td>RCV</td>\n      <td>+</td>\n      <td></td>\n      <td>NaN</td>\n      <td>NaN</td>\n    </tr>\n  </tbody>\n</table>\n<p>163 rows × 6 columns</p>\n</div>"
     },
     "execution_count": 58,
     "metadata": {},
     "output_type": "execute_result"
    }
   ],
   "source": [
    "# Replace the first column empty row with previous row\n",
    "for index, row in df.iterrows():\n",
    "    if pd.isna(row['Subject']):\n",
    "        # Replace empty cell with the value from the previous row\n",
    "        df.at[index, 'Subject'] = df.at[index - 1, 'Subject']\n",
    "\n",
    "df"
   ],
   "metadata": {
    "collapsed": false,
    "ExecuteTime": {
     "end_time": "2024-03-28T14:43:30.200884Z",
     "start_time": "2024-03-28T14:43:30.187149Z"
    }
   },
   "id": "8d6dfac87574236d",
   "execution_count": 58
  },
  {
   "cell_type": "markdown",
   "source": [
    "### Split votes column into three columns"
   ],
   "metadata": {
    "collapsed": false
   },
   "id": "eb27a71da544caa8"
  },
  {
   "cell_type": "code",
   "outputs": [
    {
     "data": {
      "text/plain": "0                                       Subject Am No     Author RCV etc.  \\\n0    Proposal to reject the Commission proposal   NaN        NaN      NaN   \n1                                     Rejection   NaN  committee      RCV   \n2                         Draft legislative act   NaN        NaN      NaN   \n3                               Text as a whole  18CP      Renew       EV   \n4               Article 1, paragraph 1, point a   113       MEPs       EV   \n..                                          ...   ...        ...      ...   \n158                                  Recital 57  112D       MEPs       EV   \n159                                  Recital 57  18CP      Renew      NaN   \n160                            After recital 62    56   The Left      NaN   \n161                            After recital 71    57   The Left      NaN   \n162                         Commission proposal   RCV          +            \n\n0        Vote   for  against  abstension  \n0         NaN  <NA>     <NA>        <NA>  \n1    rejected   312      324          12  \n2         NaN  <NA>     <NA>        <NA>  \n3     adopted   371      223          53  \n4     adopted   347      298           7  \n..        ...   ...      ...         ...  \n158   adopted   333      314           3  \n159    lapsed  <NA>     <NA>        <NA>  \n160  rejected  <NA>     <NA>        <NA>  \n161  rejected  <NA>     <NA>        <NA>  \n162       NaN  <NA>     <NA>        <NA>  \n\n[163 rows x 8 columns]",
      "text/html": "<div>\n<style scoped>\n    .dataframe tbody tr th:only-of-type {\n        vertical-align: middle;\n    }\n\n    .dataframe tbody tr th {\n        vertical-align: top;\n    }\n\n    .dataframe thead th {\n        text-align: right;\n    }\n</style>\n<table border=\"1\" class=\"dataframe\">\n  <thead>\n    <tr style=\"text-align: right;\">\n      <th></th>\n      <th>Subject</th>\n      <th>Am No</th>\n      <th>Author</th>\n      <th>RCV etc.</th>\n      <th>Vote</th>\n      <th>for</th>\n      <th>against</th>\n      <th>abstension</th>\n    </tr>\n  </thead>\n  <tbody>\n    <tr>\n      <th>0</th>\n      <td>Proposal to reject the Commission proposal</td>\n      <td>NaN</td>\n      <td>NaN</td>\n      <td>NaN</td>\n      <td>NaN</td>\n      <td>&lt;NA&gt;</td>\n      <td>&lt;NA&gt;</td>\n      <td>&lt;NA&gt;</td>\n    </tr>\n    <tr>\n      <th>1</th>\n      <td>Rejection</td>\n      <td>NaN</td>\n      <td>committee</td>\n      <td>RCV</td>\n      <td>rejected</td>\n      <td>312</td>\n      <td>324</td>\n      <td>12</td>\n    </tr>\n    <tr>\n      <th>2</th>\n      <td>Draft legislative act</td>\n      <td>NaN</td>\n      <td>NaN</td>\n      <td>NaN</td>\n      <td>NaN</td>\n      <td>&lt;NA&gt;</td>\n      <td>&lt;NA&gt;</td>\n      <td>&lt;NA&gt;</td>\n    </tr>\n    <tr>\n      <th>3</th>\n      <td>Text as a whole</td>\n      <td>18CP</td>\n      <td>Renew</td>\n      <td>EV</td>\n      <td>adopted</td>\n      <td>371</td>\n      <td>223</td>\n      <td>53</td>\n    </tr>\n    <tr>\n      <th>4</th>\n      <td>Article 1, paragraph 1, point a</td>\n      <td>113</td>\n      <td>MEPs</td>\n      <td>EV</td>\n      <td>adopted</td>\n      <td>347</td>\n      <td>298</td>\n      <td>7</td>\n    </tr>\n    <tr>\n      <th>...</th>\n      <td>...</td>\n      <td>...</td>\n      <td>...</td>\n      <td>...</td>\n      <td>...</td>\n      <td>...</td>\n      <td>...</td>\n      <td>...</td>\n    </tr>\n    <tr>\n      <th>158</th>\n      <td>Recital 57</td>\n      <td>112D</td>\n      <td>MEPs</td>\n      <td>EV</td>\n      <td>adopted</td>\n      <td>333</td>\n      <td>314</td>\n      <td>3</td>\n    </tr>\n    <tr>\n      <th>159</th>\n      <td>Recital 57</td>\n      <td>18CP</td>\n      <td>Renew</td>\n      <td>NaN</td>\n      <td>lapsed</td>\n      <td>&lt;NA&gt;</td>\n      <td>&lt;NA&gt;</td>\n      <td>&lt;NA&gt;</td>\n    </tr>\n    <tr>\n      <th>160</th>\n      <td>After recital 62</td>\n      <td>56</td>\n      <td>The Left</td>\n      <td>NaN</td>\n      <td>rejected</td>\n      <td>&lt;NA&gt;</td>\n      <td>&lt;NA&gt;</td>\n      <td>&lt;NA&gt;</td>\n    </tr>\n    <tr>\n      <th>161</th>\n      <td>After recital 71</td>\n      <td>57</td>\n      <td>The Left</td>\n      <td>NaN</td>\n      <td>rejected</td>\n      <td>&lt;NA&gt;</td>\n      <td>&lt;NA&gt;</td>\n      <td>&lt;NA&gt;</td>\n    </tr>\n    <tr>\n      <th>162</th>\n      <td>Commission proposal</td>\n      <td>RCV</td>\n      <td>+</td>\n      <td></td>\n      <td>NaN</td>\n      <td>&lt;NA&gt;</td>\n      <td>&lt;NA&gt;</td>\n      <td>&lt;NA&gt;</td>\n    </tr>\n  </tbody>\n</table>\n<p>163 rows × 8 columns</p>\n</div>"
     },
     "execution_count": 59,
     "metadata": {},
     "output_type": "execute_result"
    }
   ],
   "source": [
    "# Split the values in the 'values' column by \",\"\n",
    "df[['for', 'against', 'abstension']] = df['RCV/EV – remarks'].str.split(', ', expand=True)\n",
    "\n",
    "# Convert the columns to numeric if needed\n",
    "df['for'] = pd.to_numeric(df['for'])\n",
    "df['for'] = df['for'].astype(pd.Int64Dtype())\n",
    "    \n",
    "df['against'] = pd.to_numeric(df['against'], downcast='integer')\n",
    "df['against'] = df['against'].astype(pd.Int64Dtype())\n",
    "\n",
    "df['abstension'] = pd.to_numeric(df['abstension'], downcast='integer')\n",
    "df['abstension'] = df['abstension'].astype(pd.Int64Dtype())\n",
    "\n",
    "# Drop \"RCV/EV – remarks\" column\n",
    "df.drop(columns=['RCV/EV – remarks'], inplace=True)\n",
    "\n",
    "df"
   ],
   "metadata": {
    "collapsed": false,
    "ExecuteTime": {
     "end_time": "2024-03-28T14:43:30.214380Z",
     "start_time": "2024-03-28T14:43:30.203974Z"
    }
   },
   "id": "4479351913314c62",
   "execution_count": 59
  },
  {
   "cell_type": "code",
   "outputs": [],
   "source": [
    "# df.to_csv('C:/Users/sc/PycharmProjects/testRCVScraping/xml/20230712/test.csv', index=False)"
   ],
   "metadata": {
    "collapsed": false,
    "ExecuteTime": {
     "end_time": "2024-03-28T14:43:30.216979Z",
     "start_time": "2024-03-28T14:43:30.214380Z"
    }
   },
   "id": "719455a0936db015",
   "execution_count": 60
  }
 ],
 "metadata": {
  "kernelspec": {
   "display_name": "Python 3",
   "language": "python",
   "name": "python3"
  },
  "language_info": {
   "codemirror_mode": {
    "name": "ipython",
    "version": 2
   },
   "file_extension": ".py",
   "mimetype": "text/x-python",
   "name": "python",
   "nbconvert_exporter": "python",
   "pygments_lexer": "ipython2",
   "version": "2.7.6"
  }
 },
 "nbformat": 4,
 "nbformat_minor": 5
}
